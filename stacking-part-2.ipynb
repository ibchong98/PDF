{
 "cells": [
  {
   "cell_type": "code",
   "execution_count": 1,
   "metadata": {
    "_cell_guid": "b1076dfc-b9ad-4769-8c92-a6c4dae69d19",
    "_uuid": "8f2839f25d086af736a60e9eeb907d3b93b6e0e5",
    "execution": {
     "iopub.execute_input": "2021-02-16T07:44:13.538558Z",
     "iopub.status.busy": "2021-02-16T07:44:13.537726Z",
     "iopub.status.idle": "2021-02-16T07:44:13.545412Z",
     "shell.execute_reply": "2021-02-16T07:44:13.544528Z"
    },
    "papermill": {
     "duration": 0.020939,
     "end_time": "2021-02-16T07:44:13.545650",
     "exception": false,
     "start_time": "2021-02-16T07:44:13.524711",
     "status": "completed"
    },
    "tags": []
   },
   "outputs": [
    {
     "name": "stdout",
     "output_type": "stream",
     "text": [
      "/kaggle/input/jane-street-market-prediction/example_sample_submission.csv\n",
      "/kaggle/input/jane-street-market-prediction/features.csv\n",
      "/kaggle/input/jane-street-market-prediction/example_test.csv\n",
      "/kaggle/input/jane-street-market-prediction/train.csv\n",
      "/kaggle/input/jane-street-market-prediction/janestreet/competition.cpython-37m-x86_64-linux-gnu.so\n",
      "/kaggle/input/jane-street-market-prediction/janestreet/__init__.py\n"
     ]
    }
   ],
   "source": [
    "# This Python 3 environment comes with many helpful analytics libraries installed\n",
    "# It is defined by the kaggle/python Docker image: https://github.com/kaggle/docker-python\n",
    "# For example, here's several helpful packages to load\n",
    "\n",
    "import numpy as np # linear algebra\n",
    "import pandas as pd # data processing, CSV file I/O (e.g. pd.read_csv)\n",
    "\n",
    "# Input data files are available in the read-only \"../input/\" directory\n",
    "# For example, running this (by clicking run or pressing Shift+Enter) will list all files under the input directory\n",
    "\n",
    "import os\n",
    "for dirname, _, filenames in os.walk('/kaggle/input'):\n",
    "    for filename in filenames:\n",
    "        print(os.path.join(dirname, filename))\n",
    "\n",
    "# You can write up to 20GB to the current directory (/kaggle/working/) that gets preserved as output when you create a version using \"Save & Run All\" \n",
    "# You can also write temporary files to /kaggle/temp/, but they won't be saved outside of the current session"
   ]
  },
  {
   "cell_type": "code",
   "execution_count": 2,
   "metadata": {
    "execution": {
     "iopub.execute_input": "2021-02-16T07:44:13.566691Z",
     "iopub.status.busy": "2021-02-16T07:44:13.566017Z",
     "iopub.status.idle": "2021-02-16T07:44:14.587176Z",
     "shell.execute_reply": "2021-02-16T07:44:14.586137Z"
    },
    "papermill": {
     "duration": 1.033519,
     "end_time": "2021-02-16T07:44:14.587317",
     "exception": false,
     "start_time": "2021-02-16T07:44:13.553798",
     "status": "completed"
    },
    "tags": []
   },
   "outputs": [
    {
     "data": {
      "text/html": [
       "<style type='text/css'>\n",
       ".datatable table.frame { margin-bottom: 0; }\n",
       ".datatable table.frame thead { border-bottom: none; }\n",
       ".datatable table.frame tr.coltypes td {  color: #FFFFFF;  line-height: 6px;  padding: 0 0.5em;}\n",
       ".datatable .bool    { background: #DDDD99; }\n",
       ".datatable .object  { background: #565656; }\n",
       ".datatable .int     { background: #5D9E5D; }\n",
       ".datatable .float   { background: #4040CC; }\n",
       ".datatable .str     { background: #CC4040; }\n",
       ".datatable .row_index {  background: var(--jp-border-color3);  border-right: 1px solid var(--jp-border-color0);  color: var(--jp-ui-font-color3);  font-size: 9px;}\n",
       ".datatable .frame tr.coltypes .row_index {  background: var(--jp-border-color0);}\n",
       ".datatable th:nth-child(2) { padding-left: 12px; }\n",
       ".datatable .hellipsis {  color: var(--jp-cell-editor-border-color);}\n",
       ".datatable .vellipsis {  background: var(--jp-layout-color0);  color: var(--jp-cell-editor-border-color);}\n",
       ".datatable .na {  color: var(--jp-cell-editor-border-color);  font-size: 80%;}\n",
       ".datatable .footer { font-size: 9px; }\n",
       ".datatable .frame_dimensions {  background: var(--jp-border-color3);  border-top: 1px solid var(--jp-border-color0);  color: var(--jp-ui-font-color3);  display: inline-block;  opacity: 0.6;  padding: 1px 10px 1px 5px;}\n",
       "</style>\n"
      ],
      "text/plain": [
       "<IPython.core.display.HTML object>"
      ]
     },
     "metadata": {},
     "output_type": "display_data"
    }
   ],
   "source": [
    "import datatable as dt\n",
    "import matplotlib.pyplot as plt\n",
    "import gc\n",
    "from sklearn.model_selection import GridSearchCV\n",
    "from sklearn.metrics import roc_auc_score\n",
    "\n",
    "from sklearn.impute import SimpleImputer\n",
    "from sklearn.preprocessing import StandardScaler\n",
    "from sklearn.model_selection import train_test_split\n",
    "\n",
    "\n",
    "from sklearn import set_config\n",
    "set_config(display='diagram') \n",
    "\n",
    "from tqdm.notebook import tqdm\n",
    "\n",
    "import warnings\n",
    "warnings.simplefilter(action='ignore', category=FutureWarning)\n",
    "warnings.simplefilter(action='ignore', category=pd.core.common.SettingWithCopyWarning)"
   ]
  },
  {
   "cell_type": "code",
   "execution_count": 3,
   "metadata": {
    "execution": {
     "iopub.execute_input": "2021-02-16T07:44:14.607840Z",
     "iopub.status.busy": "2021-02-16T07:44:14.607245Z",
     "iopub.status.idle": "2021-02-16T07:45:17.774956Z",
     "shell.execute_reply": "2021-02-16T07:45:17.773839Z"
    },
    "papermill": {
     "duration": 63.17968,
     "end_time": "2021-02-16T07:45:17.775101",
     "exception": false,
     "start_time": "2021-02-16T07:44:14.595421",
     "status": "completed"
    },
    "tags": []
   },
   "outputs": [],
   "source": [
    "train = (\n",
    "    dt.fread('../input/jane-street-market-prediction/train.csv')\n",
    "      .to_pandas()\n",
    ")\n",
    "pd.set_option('display.max_columns', None)\n",
    "train = train.astype({c: np.float32 for c in train.select_dtypes(include='float64').columns})[train['date']>85]\n",
    "train_85 = train[train['date']<=85]"
   ]
  },
  {
   "cell_type": "code",
   "execution_count": 4,
   "metadata": {
    "execution": {
     "iopub.execute_input": "2021-02-16T07:45:17.803272Z",
     "iopub.status.busy": "2021-02-16T07:45:17.801898Z",
     "iopub.status.idle": "2021-02-16T07:45:20.330551Z",
     "shell.execute_reply": "2021-02-16T07:45:20.330053Z"
    },
    "papermill": {
     "duration": 2.546987,
     "end_time": "2021-02-16T07:45:20.330677",
     "exception": false,
     "start_time": "2021-02-16T07:45:17.783690",
     "status": "completed"
    },
    "tags": []
   },
   "outputs": [],
   "source": [
    "#ignoring rows with weight=0 (which are included for completeness)\n",
    "train = train.query('weight > 0').reset_index(drop = True)\n",
    "\n",
    "#Last value imputation using ffillna\n",
    "features = [c for c in train.columns if 'feature' in c]\n",
    "train[features] = train[features].fillna(method = 'ffill').fillna(0)\n",
    "train['action'] = (train['resp'] > 0).astype('int')\n",
    "\n",
    "#feature drop\n",
    "to_be_dropped = ['feature_21','feature_24','feature_25','feature_55',\n",
    "                  'feature_58','feature_121','feature_127','feature_61',\n",
    "                  'feature_63','feature_5','feature_3','feature_38',\n",
    "                  'feature_66','feature_69', 'feature_12', 'feature_26', 'feature_68',\n",
    "                  'feature_7','feature_8','feature_17','feature_18',\n",
    "                  'feature_27','feature_28','feature_72','feature_78',\n",
    "                  'feature_84','feature_90','feature_96','feature_102',\n",
    "                  'feature_108','feature_114',\n",
    "                  'feature_35','feature_36','feature_32','feature_40',\n",
    "                  'feature_48','feature_122','feature_128','feature_76',\n",
    "                  'feature_110','feature_101','feature_113','feature_116',\n",
    "                  'feature_107','feature_119','feature_129','feature_126'] \n",
    "train = train.drop(columns=to_be_dropped)"
   ]
  },
  {
   "cell_type": "code",
   "execution_count": 5,
   "metadata": {
    "execution": {
     "iopub.execute_input": "2021-02-16T07:45:20.510554Z",
     "iopub.status.busy": "2021-02-16T07:45:20.509189Z",
     "iopub.status.idle": "2021-02-16T07:45:24.974979Z",
     "shell.execute_reply": "2021-02-16T07:45:24.974440Z"
    },
    "papermill": {
     "duration": 4.636344,
     "end_time": "2021-02-16T07:45:24.975103",
     "exception": false,
     "start_time": "2021-02-16T07:45:20.338759",
     "status": "completed"
    },
    "tags": []
   },
   "outputs": [],
   "source": [
    "# X,y\n",
    "features = [c for c in train.columns if 'feature' in c]\n",
    "X = train.loc[:, train.columns.str.contains('feature')]\n",
    "#standard scaling\n",
    "X = StandardScaler().fit_transform(X)\n",
    "y = train.loc[:,'action']\n",
    "X_train, X_test, y_train, y_test = train_test_split(pd.DataFrame(X), y, test_size=0.2, random_state = 42)\n",
    "del train,X,y"
   ]
  },
  {
   "cell_type": "markdown",
   "metadata": {
    "papermill": {
     "duration": 0.007739,
     "end_time": "2021-02-16T07:45:24.990942",
     "exception": false,
     "start_time": "2021-02-16T07:45:24.983203",
     "status": "completed"
    },
    "tags": []
   },
   "source": [
    "# Base Model define"
   ]
  },
  {
   "cell_type": "code",
   "execution_count": 6,
   "metadata": {
    "execution": {
     "iopub.execute_input": "2021-02-16T07:45:25.014112Z",
     "iopub.status.busy": "2021-02-16T07:45:25.013394Z",
     "iopub.status.idle": "2021-02-16T07:45:29.093293Z",
     "shell.execute_reply": "2021-02-16T07:45:29.092830Z"
    },
    "papermill": {
     "duration": 4.094624,
     "end_time": "2021-02-16T07:45:29.093419",
     "exception": false,
     "start_time": "2021-02-16T07:45:24.998795",
     "status": "completed"
    },
    "tags": []
   },
   "outputs": [],
   "source": [
    "#from sklearn.svm import SVC\n",
    "from sklearn.metrics import accuracy_score\n",
    "#from lightgbm import LGBMClassifier\n",
    "#from sklearn.neighbors import KNeighborsClassifier\n",
    "#from sklearn.ensemble import RandomForestClassifier\n",
    "from sklearn.ensemble import AdaBoostClassifier as ada\n",
    "#from sklearn.tree import DecisionTreeClassifier\n",
    "from sklearn.linear_model import LogisticRegression # 메타 모델\n",
    "from sklearn.ensemble import StackingClassifier\n",
    "import xgboost as xgb\n",
    "import lightgbm as lgb \n",
    "from sklearn.ensemble import RandomForestClassifier as rf\n",
    "\n",
    "\n",
    "#SVM = SVC(kernel = 'rbf', gamma='scale')\n",
    "\n",
    "lgbclf = lgb.LGBMClassifier(n_estimators = 369,\n",
    "       learning_rate=0.29686498918493825,\n",
    "       num_leaves=3,\n",
    "       subsample=0.9369154235677937,\n",
    "       subsample_freq=1,\n",
    "       colsample_bytree=0.33362860498986807,\n",
    "       random_state = 37,\n",
    "       verbose=0,\n",
    "       force_col_wise=True,\n",
    "       max_depth=3,\n",
    "       min_child_weight=3\n",
    "    ) \n",
    "xgbclf = xgb.XGBClassifier(\n",
    "        n_estimators=24,\n",
    "        max_depth=3,\n",
    "        learning_rate=0.01,\n",
    "        subsample=0.85,\n",
    "        colsample_bytree=0.85,\n",
    "        missing=-999,\n",
    "        tree_method='gpu_hist',\n",
    "        nthread=-1,\n",
    "        random_state=2020\n",
    "    )\n",
    "rfclf = rf(\n",
    "            n_estimators=64,\n",
    "            max_depth=8, \n",
    "            max_features='sqrt',\n",
    "            n_jobs=-1,\n",
    "            random_state=2020\n",
    "    )\n",
    "\n",
    "adaclf = ada()"
   ]
  },
  {
   "cell_type": "code",
   "execution_count": 7,
   "metadata": {
    "execution": {
     "iopub.execute_input": "2021-02-16T07:45:29.116087Z",
     "iopub.status.busy": "2021-02-16T07:45:29.114502Z",
     "iopub.status.idle": "2021-02-16T07:45:29.116750Z",
     "shell.execute_reply": "2021-02-16T07:45:29.117136Z"
    },
    "papermill": {
     "duration": 0.014857,
     "end_time": "2021-02-16T07:45:29.117252",
     "exception": false,
     "start_time": "2021-02-16T07:45:29.102395",
     "status": "completed"
    },
    "tags": []
   },
   "outputs": [],
   "source": [
    "# Ensemble bass models\n",
    "models = [\n",
    "    ('xgb',xgbclf),\n",
    "    #('SVC',SVM),\n",
    "    ('lgb',lgbclf),\n",
    "    #('rf',rfclf)\n",
    "    \n",
    "]\n",
    "# level-2 random forest is stacked over the base models\n",
    "#lr_final = LogisticRegression()\n",
    "stack_clf = StackingClassifier(models,final_estimator=adaclf,cv=2)   "
   ]
  },
  {
   "cell_type": "code",
   "execution_count": 8,
   "metadata": {
    "execution": {
     "iopub.execute_input": "2021-02-16T07:45:29.138994Z",
     "iopub.status.busy": "2021-02-16T07:45:29.138147Z",
     "iopub.status.idle": "2021-02-16T07:48:02.988933Z",
     "shell.execute_reply": "2021-02-16T07:48:02.989348Z"
    },
    "papermill": {
     "duration": 153.864342,
     "end_time": "2021-02-16T07:48:02.989520",
     "exception": false,
     "start_time": "2021-02-16T07:45:29.125178",
     "status": "completed"
    },
    "tags": []
   },
   "outputs": [
    {
     "name": "stderr",
     "output_type": "stream",
     "text": [
      "/opt/conda/lib/python3.7/site-packages/xgboost/sklearn.py:888: UserWarning: The use of label encoder in XGBClassifier is deprecated and will be removed in a future release. To remove this warning, do the following: 1) Pass option use_label_encoder=False when constructing XGBClassifier object; and 2) Encode your labels (y) as integers starting with 0, i.e. 0, 1, 2, ..., [num_class - 1].\n",
      "  warnings.warn(label_encoder_deprecation_msg, UserWarning)\n"
     ]
    },
    {
     "name": "stdout",
     "output_type": "stream",
     "text": [
      "[07:45:32] WARNING: ../src/learner.cc:1061: Starting in XGBoost 1.3.0, the default evaluation metric used with the objective 'binary:logistic' was changed from 'error' to 'logloss'. Explicitly set eval_metric if you'd like to restore the old behavior.\n"
     ]
    },
    {
     "name": "stderr",
     "output_type": "stream",
     "text": [
      "/opt/conda/lib/python3.7/site-packages/xgboost/sklearn.py:888: UserWarning: The use of label encoder in XGBClassifier is deprecated and will be removed in a future release. To remove this warning, do the following: 1) Pass option use_label_encoder=False when constructing XGBClassifier object; and 2) Encode your labels (y) as integers starting with 0, i.e. 0, 1, 2, ..., [num_class - 1].\n",
      "  warnings.warn(label_encoder_deprecation_msg, UserWarning)\n"
     ]
    },
    {
     "name": "stdout",
     "output_type": "stream",
     "text": [
      "[07:46:25] WARNING: ../src/learner.cc:1061: Starting in XGBoost 1.3.0, the default evaluation metric used with the objective 'binary:logistic' was changed from 'error' to 'logloss'. Explicitly set eval_metric if you'd like to restore the old behavior.\n",
      "[07:46:28] WARNING: ../src/learner.cc:1061: Starting in XGBoost 1.3.0, the default evaluation metric used with the objective 'binary:logistic' was changed from 'error' to 'logloss'. Explicitly set eval_metric if you'd like to restore the old behavior.\n",
      "CPU times: user 4min 8s, sys: 3.76 s, total: 4min 12s\n",
      "Wall time: 2min 33s\n"
     ]
    }
   ],
   "source": [
    "%time stack_clf.fit(X_train, y_train)\n",
    "del X_train, y_train"
   ]
  },
  {
   "cell_type": "code",
   "execution_count": 9,
   "metadata": {
    "execution": {
     "iopub.execute_input": "2021-02-16T07:48:03.014504Z",
     "iopub.status.busy": "2021-02-16T07:48:03.013871Z",
     "iopub.status.idle": "2021-02-16T07:48:07.136416Z",
     "shell.execute_reply": "2021-02-16T07:48:07.135382Z"
    },
    "papermill": {
     "duration": 4.137374,
     "end_time": "2021-02-16T07:48:07.136574",
     "exception": false,
     "start_time": "2021-02-16T07:48:02.999200",
     "status": "completed"
    },
    "tags": []
   },
   "outputs": [
    {
     "name": "stdout",
     "output_type": "stream",
     "text": [
      "Final test accuracy:  0.5275691017331513\n"
     ]
    }
   ],
   "source": [
    "stack_final_pred = stack_clf.predict(X_test) \n",
    "\n",
    "print('Final test accuracy: ',accuracy_score(y_test, stack_final_pred))"
   ]
  },
  {
   "cell_type": "code",
   "execution_count": 10,
   "metadata": {
    "execution": {
     "iopub.execute_input": "2021-02-16T07:48:07.162733Z",
     "iopub.status.busy": "2021-02-16T07:48:07.161822Z",
     "iopub.status.idle": "2021-02-16T07:48:07.183386Z",
     "shell.execute_reply": "2021-02-16T07:48:07.182961Z"
    },
    "papermill": {
     "duration": 0.036213,
     "end_time": "2021-02-16T07:48:07.183521",
     "exception": false,
     "start_time": "2021-02-16T07:48:07.147308",
     "status": "completed"
    },
    "tags": []
   },
   "outputs": [],
   "source": [
    "from tqdm import tqdm\n",
    "import janestreet\n",
    "env = janestreet.make_env() \n",
    "iter_test = env.iter_test() "
   ]
  },
  {
   "cell_type": "code",
   "execution_count": 11,
   "metadata": {
    "execution": {
     "iopub.execute_input": "2021-02-16T07:48:07.233963Z",
     "iopub.status.busy": "2021-02-16T07:48:07.232912Z",
     "iopub.status.idle": "2021-02-16T07:54:44.705010Z",
     "shell.execute_reply": "2021-02-16T07:54:44.705409Z"
    },
    "papermill": {
     "duration": 397.499457,
     "end_time": "2021-02-16T07:54:44.705644",
     "exception": false,
     "start_time": "2021-02-16T07:48:07.206187",
     "status": "completed"
    },
    "tags": []
   },
   "outputs": [
    {
     "name": "stderr",
     "output_type": "stream",
     "text": [
      "15219it [06:37, 38.29it/s]\n"
     ]
    }
   ],
   "source": [
    "for (test_df, sample_prediction_df) in tqdm(iter_test):\n",
    "    if test_df['weight'].item() > 0 :\n",
    "        X_test = test_df.loc[:, test_df.columns.str.contains('feature')].drop(columns=to_be_dropped)\n",
    "        X_test = X_test.fillna(method = 'ffill').fillna(0)\n",
    "        y_preds = stack_clf.predict(X_test)\n",
    "        sample_prediction_df.action = y_preds\n",
    "    else:\n",
    "        sample_prediction_df.action = 0\n",
    "    env.predict(sample_prediction_df)"
   ]
  }
 ],
 "metadata": {
  "kernelspec": {
   "display_name": "Python 3",
   "language": "python",
   "name": "python3"
  },
  "language_info": {
   "codemirror_mode": {
    "name": "ipython",
    "version": 3
   },
   "file_extension": ".py",
   "mimetype": "text/x-python",
   "name": "python",
   "nbconvert_exporter": "python",
   "pygments_lexer": "ipython3",
   "version": "3.7.9"
  },
  "papermill": {
   "default_parameters": {},
   "duration": 638.410865,
   "end_time": "2021-02-16T07:54:47.123964",
   "environment_variables": {},
   "exception": null,
   "input_path": "__notebook__.ipynb",
   "output_path": "__notebook__.ipynb",
   "parameters": {},
   "start_time": "2021-02-16T07:44:08.713099",
   "version": "2.2.2"
  }
 },
 "nbformat": 4,
 "nbformat_minor": 4
}
